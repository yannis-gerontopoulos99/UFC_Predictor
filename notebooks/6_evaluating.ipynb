{
 "cells": [
  {
   "cell_type": "code",
   "execution_count": 1,
   "id": "e2a43795",
   "metadata": {},
   "outputs": [],
   "source": [
    "import pickle\n",
    "import numpy as np"
   ]
  },
  {
   "cell_type": "code",
   "execution_count": null,
   "id": "f662670f",
   "metadata": {},
   "outputs": [
    {
     "name": "stdout",
     "output_type": "stream",
     "text": [
      "AdaBoost Prediction:\n",
      "Winner: Fighter A\n",
      "Fighter A probability: 0.544\n",
      "Fighter B probability: 0.456\n",
      "Confidence: 0.544\n"
     ]
    },
    {
     "name": "stderr",
     "output_type": "stream",
     "text": [
      "c:\\Users\\yanbl\\Desktop\\UFC_predictor\\myenv\\Lib\\site-packages\\sklearn\\utils\\validation.py:2749: UserWarning: X does not have valid feature names, but AdaBoostClassifier was fitted with feature names\n",
      "  warnings.warn(\n",
      "c:\\Users\\yanbl\\Desktop\\UFC_predictor\\myenv\\Lib\\site-packages\\sklearn\\utils\\validation.py:2749: UserWarning: X does not have valid feature names, but AdaBoostClassifier was fitted with feature names\n",
      "  warnings.warn(\n"
     ]
    }
   ],
   "source": [
    "def load_and_predict_adaboost(fighter_differences, model_path='../models/sgdclassifier.pkl'):\n",
    "    \"\"\"\n",
    "    Load AdaBoost model and make prediction using fighter differences\n",
    "    \n",
    "    Parameters:\n",
    "    fighter_differences: dict with difference values (e.g., {'reach_diff': 2, 'height_diff': -1, ...})\n",
    "    \"\"\"\n",
    "    # Load model\n",
    "    with open(model_path, 'rb') as f:\n",
    "        model = pickle.load(f)\n",
    "\n",
    "    # Prepare features using only the differences\n",
    "    features = list(fighter_differences.values())\n",
    "\n",
    "    # Convert to numpy array\n",
    "    X = np.array(features).reshape(1, -1)\n",
    "\n",
    "    # Make prediction\n",
    "    prediction = model.predict(X)[0]\n",
    "    probabilities = model.predict_proba(X)[0]\n",
    "\n",
    "    return {\n",
    "        'prediction': prediction,\n",
    "        'fighter_a_win_prob': probabilities[1] if len(probabilities) > 1 else probabilities[0],\n",
    "        'fighter_b_win_prob': probabilities[0] if len(probabilities) > 1 else 1 - probabilities[0],\n",
    "        'confidence': max(probabilities),\n",
    "        'model_name': 'AdaBoost'\n",
    "    }\n",
    "\n",
    "# Example usage with fighter differences\n",
    "fighter_differences = {\n",
    "    'total_strikes_diff': 0.197245, 'sig_strikes_diff': -0.426000, 'head_strikes_diff': -0.688153,\n",
    "    'ground_strikes_diff': -0.764567, 'ground_attempts_diff': -0.866484, 'sub_attempts_diff': 0.106177,\n",
    "    'year': 1.392613, 'knockdowns_diff': 0.085592, 'control_time_diff': -0.100416,\n",
    "    'total_strikes_attempts_diff': 0.067307, 'head_attempts_diff': -0.587013, 'distance_diff': -0.162938,\n",
    "    'sig_attempts_diff': -0.392458, 'takedowns_diff': 0.123152, 'win_method_Submission': -0.495827,\n",
    "    'fight_time_avg_diff': -0.310984, 'submission_avg_diff': 1.267790, 'days_since_debut_diff': 1.307316,\n",
    "    'distance_attempts_diff': -0.074113, 'body_strikes_diff': 0.322581, 'takedowns_avg_diff': 0.734291,\n",
    "    'sub_attempts_ema_diff': 0.285637, 'sig_attempts_ema_diff': 0.049346,\n",
    "    'takedown_attempts_diff': 0.408287, 'time': 0.738943, 'knockdown_avg_diff': -0.067475,\n",
    "    'body_attempts_diff': 0.340288, 'knockdowns_ema_diff': -0.368528, 'leg_attempts_diff': 0.125529,\n",
    "    'clinch_strikes_diff': 0.207099\n",
    "}\n",
    "\n",
    "# Test the function\n",
    "result = load_and_predict_adaboost(fighter_differences)\n",
    "print(\"AdaBoost Prediction:\")\n",
    "print(f\"Winner: Fighter {'A' if result['prediction'] == 1 else 'B'}\")\n",
    "print(f\"Fighter A probability: {result['fighter_a_win_prob']:.3f}\")\n",
    "print(f\"Fighter B probability: {result['fighter_b_win_prob']:.3f}\")\n",
    "print(f\"Confidence: {result['confidence']:.3f}\")"
   ]
  },
  {
   "cell_type": "code",
   "execution_count": null,
   "id": "21ac6ece",
   "metadata": {},
   "outputs": [],
   "source": []
  }
 ],
 "metadata": {
  "kernelspec": {
   "display_name": "Python 3",
   "language": "python",
   "name": "python3"
  },
  "language_info": {
   "codemirror_mode": {
    "name": "ipython",
    "version": 3
   },
   "file_extension": ".py",
   "mimetype": "text/x-python",
   "name": "python",
   "nbconvert_exporter": "python",
   "pygments_lexer": "ipython3",
   "version": "3.12.9"
  }
 },
 "nbformat": 4,
 "nbformat_minor": 5
}
