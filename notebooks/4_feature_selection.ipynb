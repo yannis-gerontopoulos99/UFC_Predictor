{
 "cells": [
  {
   "cell_type": "code",
   "execution_count": 1,
   "id": "f90e1595",
   "metadata": {},
   "outputs": [],
   "source": [
    "import pandas as pd\n",
    "import matplotlib.pyplot as plt\n",
    "import seaborn as sns\n",
    "\n",
    "from sklearn.feature_selection import VarianceThreshold\n",
    "from sklearn.model_selection import StratifiedKFold\n",
    "from sklearn.feature_selection import RFECV\n",
    "from sklearn.ensemble import RandomForestClassifier"
   ]
  },
  {
   "cell_type": "code",
   "execution_count": 2,
   "id": "bacebaab",
   "metadata": {},
   "outputs": [],
   "source": [
    "pd.set_option(\"display.max_columns\", None)"
   ]
  },
  {
   "cell_type": "code",
   "execution_count": 3,
   "id": "9ac39fa8",
   "metadata": {},
   "outputs": [],
   "source": [
    "df_features_clean = pd.read_csv('../data/notebooks/features_difference.csv')"
   ]
  },
  {
   "cell_type": "markdown",
   "id": "73be6a1c",
   "metadata": {},
   "source": [
    "Feature Selection"
   ]
  },
  {
   "cell_type": "code",
   "execution_count": 4,
   "id": "a5b06942",
   "metadata": {},
   "outputs": [],
   "source": [
    "X = df_features_clean.drop('winner', axis=1)\n",
    "y = df_features_clean['winner']"
   ]
  },
  {
   "cell_type": "code",
   "execution_count": 5,
   "id": "e89a97a7",
   "metadata": {},
   "outputs": [
    {
     "name": "stdout",
     "output_type": "stream",
     "text": [
      "(4584, 82) \n",
      " Index(['year', 'month', 'day_of_week', 'height_diff', 'weight_diff',\n",
      "       'reach_diff', 'leg_reach_diff', 'sig_strikes_landed_per_minute_diff',\n",
      "       'sig_strikes_absorbed_per_minute_diff', 'takedowns_avg_diff',\n",
      "       'submission_avg_diff', 'knockdown_avg_diff', 'fight_time_avg_diff',\n",
      "       'avg_rounds_diff', 'avg_time_diff', 'avg_knockdowns_diff',\n",
      "       'avg_sig_attempts_diff', 'avg_sig_strikes_diff',\n",
      "       'avg_total_strikes_attempts_diff', 'avg_total_strikes_diff',\n",
      "       'avg_sub_attempts_diff', 'avg_takedowns_diff',\n",
      "       'avg_takedown_attempts_diff', 'avg_head_strikes_diff',\n",
      "       'avg_head_attempts_diff', 'avg_body_strikes_diff',\n",
      "       'avg_body_attempts_diff', 'avg_leg_strikes_diff',\n",
      "       'avg_leg_attempts_diff', 'avg_distance_diff',\n",
      "       'avg_distance_attempts_diff', 'avg_clinch_strikes_diff',\n",
      "       'avg_clinch_attempts_diff', 'avg_ground_strikes_diff',\n",
      "       'avg_ground_attempts_diff', 'wins_before_diff', 'losses_before_diff',\n",
      "       'total_fights_before_diff', 'win_pct_before_diff', 'wins_last_3_diff',\n",
      "       'fights_last_3_diff', 'days_since_debut_diff',\n",
      "       'days_since_last_win_diff', 'recent_winner_diff',\n",
      "       'wins_last_365_days_diff', 'fights_last_365_days_diff',\n",
      "       'undefeated_last_year_diff', 'win_streak_diff', 'lose_streak_diff',\n",
      "       'on_win_streak_diff', 'long_win_streak_diff', 'sig_strikes_ema_diff',\n",
      "       'sig_strikes_success_rate_ema_diff', 'sig_attempts_ema_diff',\n",
      "       'knockdowns_ema_diff', 'knockdowns_success_rate_ema_diff',\n",
      "       'takedowns_ema_diff', 'takedowns_success_rate_ema_diff',\n",
      "       'takedown_attempts_ema_diff', 'total_strikes_ema_diff',\n",
      "       'total_strikes_success_rate_ema_diff',\n",
      "       'total_strikes_attempts_ema_diff', 'head_strikes_ema_diff',\n",
      "       'head_strikes_success_rate_ema_diff', 'head_attempts_ema_diff',\n",
      "       'sig_strikes_roll_5_diff', 'sig_strikes_success_rate_roll_5_diff',\n",
      "       'sig_attempts_roll_5_diff', 'takedowns_roll_5_diff',\n",
      "       'takedowns_success_rate_roll_5_diff', 'takedown_attempts_roll_5_diff',\n",
      "       'control_time_roll_5_diff', 'knockdowns_roll_5_diff',\n",
      "       'total_strikes_roll_5_diff', 'total_strikes_attempts_roll_5_diff',\n",
      "       'performance_trend_diff', 'finish_momentum_diff',\n",
      "       'dominance_momentum_diff', 'Orthodox_diff', 'Sideways_diff',\n",
      "       'Southpaw_diff', 'Switch_diff'],\n",
      "      dtype='object')\n"
     ]
    }
   ],
   "source": [
    "print(X.shape, '\\n', X.columns)"
   ]
  },
  {
   "cell_type": "markdown",
   "id": "553e3e5b",
   "metadata": {},
   "source": [
    "Variance Threshold"
   ]
  },
  {
   "cell_type": "code",
   "execution_count": 6,
   "id": "bcf8b493",
   "metadata": {},
   "outputs": [
    {
     "name": "stdout",
     "output_type": "stream",
     "text": [
      "Columns selected:  Index(['year', 'month', 'day_of_week', 'height_diff', 'weight_diff',\n",
      "       'reach_diff', 'leg_reach_diff', 'sig_strikes_landed_per_minute_diff',\n",
      "       'sig_strikes_absorbed_per_minute_diff', 'takedowns_avg_diff',\n",
      "       'submission_avg_diff', 'knockdown_avg_diff', 'fight_time_avg_diff',\n",
      "       'avg_rounds_diff', 'avg_time_diff', 'avg_knockdowns_diff',\n",
      "       'avg_sig_attempts_diff', 'avg_sig_strikes_diff',\n",
      "       'avg_total_strikes_attempts_diff', 'avg_total_strikes_diff',\n",
      "       'avg_sub_attempts_diff', 'avg_takedowns_diff',\n",
      "       'avg_takedown_attempts_diff', 'avg_head_strikes_diff',\n",
      "       'avg_head_attempts_diff', 'avg_body_strikes_diff',\n",
      "       'avg_body_attempts_diff', 'avg_leg_strikes_diff',\n",
      "       'avg_leg_attempts_diff', 'avg_distance_diff',\n",
      "       'avg_distance_attempts_diff', 'avg_clinch_strikes_diff',\n",
      "       'avg_clinch_attempts_diff', 'avg_ground_strikes_diff',\n",
      "       'avg_ground_attempts_diff', 'wins_before_diff', 'losses_before_diff',\n",
      "       'total_fights_before_diff', 'win_pct_before_diff', 'wins_last_3_diff',\n",
      "       'fights_last_3_diff', 'days_since_debut_diff',\n",
      "       'days_since_last_win_diff', 'recent_winner_diff',\n",
      "       'wins_last_365_days_diff', 'fights_last_365_days_diff',\n",
      "       'undefeated_last_year_diff', 'win_streak_diff', 'lose_streak_diff',\n",
      "       'on_win_streak_diff', 'long_win_streak_diff', 'sig_strikes_ema_diff',\n",
      "       'sig_attempts_ema_diff', 'knockdowns_ema_diff', 'takedowns_ema_diff',\n",
      "       'takedown_attempts_ema_diff', 'total_strikes_ema_diff',\n",
      "       'total_strikes_attempts_ema_diff', 'head_strikes_ema_diff',\n",
      "       'head_attempts_ema_diff', 'sig_strikes_roll_5_diff',\n",
      "       'sig_attempts_roll_5_diff', 'takedowns_roll_5_diff',\n",
      "       'takedowns_success_rate_roll_5_diff', 'takedown_attempts_roll_5_diff',\n",
      "       'control_time_roll_5_diff', 'knockdowns_roll_5_diff',\n",
      "       'total_strikes_roll_5_diff', 'total_strikes_attempts_roll_5_diff',\n",
      "       'Orthodox_diff', 'Southpaw_diff', 'Switch_diff'],\n",
      "      dtype='object') \n",
      "\n",
      " 72 \n",
      "\n",
      " Columns dropped:  {'sig_strikes_success_rate_roll_5_diff', 'takedowns_success_rate_ema_diff', 'performance_trend_diff', 'finish_momentum_diff', 'Sideways_diff', 'dominance_momentum_diff', 'sig_strikes_success_rate_ema_diff', 'knockdowns_success_rate_ema_diff', 'head_strikes_success_rate_ema_diff', 'total_strikes_success_rate_ema_diff'} \n",
      "\n",
      " 10\n"
     ]
    }
   ],
   "source": [
    "vt = VarianceThreshold(threshold=0.05)\n",
    "vt.fit_transform(X)\n",
    "vt_selected = X.columns[vt.get_support()]\n",
    "vt_dropped = set(X.columns) - set(vt_selected)\n",
    "\n",
    "print('Columns selected: ', vt_selected, '\\n\\n', len(vt_selected), \n",
    "    '\\n\\n', 'Columns dropped: ', vt_dropped, '\\n\\n', len(vt_dropped))\n",
    "\n",
    "X = X[vt_selected]"
   ]
  },
  {
   "cell_type": "markdown",
   "id": "a18bf239",
   "metadata": {},
   "source": [
    "Recursive Feature Elimination (RFECV)"
   ]
  },
  {
   "cell_type": "code",
   "execution_count": 7,
   "id": "1860eb5e",
   "metadata": {},
   "outputs": [
    {
     "name": "stdout",
     "output_type": "stream",
     "text": [
      "Columns selected:  Index(['year', 'month', 'height_diff', 'weight_diff', 'reach_diff',\n",
      "       'leg_reach_diff', 'sig_strikes_landed_per_minute_diff',\n",
      "       'sig_strikes_absorbed_per_minute_diff', 'takedowns_avg_diff',\n",
      "       'submission_avg_diff', 'knockdown_avg_diff', 'fight_time_avg_diff',\n",
      "       'avg_rounds_diff', 'avg_time_diff', 'avg_knockdowns_diff',\n",
      "       'avg_sig_attempts_diff', 'avg_sig_strikes_diff',\n",
      "       'avg_total_strikes_attempts_diff', 'avg_total_strikes_diff',\n",
      "       'avg_sub_attempts_diff', 'avg_takedowns_diff',\n",
      "       'avg_takedown_attempts_diff', 'avg_head_strikes_diff',\n",
      "       'avg_head_attempts_diff', 'avg_body_strikes_diff',\n",
      "       'avg_body_attempts_diff', 'avg_leg_strikes_diff',\n",
      "       'avg_leg_attempts_diff', 'avg_distance_diff',\n",
      "       'avg_distance_attempts_diff', 'avg_clinch_strikes_diff',\n",
      "       'avg_clinch_attempts_diff', 'avg_ground_strikes_diff',\n",
      "       'avg_ground_attempts_diff', 'wins_before_diff', 'losses_before_diff',\n",
      "       'total_fights_before_diff', 'win_pct_before_diff', 'wins_last_3_diff',\n",
      "       'days_since_debut_diff', 'days_since_last_win_diff',\n",
      "       'wins_last_365_days_diff', 'fights_last_365_days_diff',\n",
      "       'win_streak_diff', 'lose_streak_diff', 'sig_strikes_ema_diff',\n",
      "       'sig_attempts_ema_diff', 'knockdowns_ema_diff', 'takedowns_ema_diff',\n",
      "       'takedown_attempts_ema_diff', 'total_strikes_ema_diff',\n",
      "       'total_strikes_attempts_ema_diff', 'head_strikes_ema_diff',\n",
      "       'head_attempts_ema_diff', 'sig_strikes_roll_5_diff',\n",
      "       'sig_attempts_roll_5_diff', 'takedowns_roll_5_diff',\n",
      "       'takedowns_success_rate_roll_5_diff', 'takedown_attempts_roll_5_diff',\n",
      "       'control_time_roll_5_diff', 'knockdowns_roll_5_diff',\n",
      "       'total_strikes_roll_5_diff', 'total_strikes_attempts_roll_5_diff'],\n",
      "      dtype='object') \n",
      "\n",
      " 63 \n",
      "\n",
      " Columns dropped:  {'Southpaw_diff', 'fights_last_3_diff', 'recent_winner_diff', 'on_win_streak_diff', 'day_of_week', 'undefeated_last_year_diff', 'Orthodox_diff', 'Switch_diff', 'long_win_streak_diff'} \n",
      "\n",
      " 9\n"
     ]
    }
   ],
   "source": [
    "model = RandomForestClassifier(random_state=42)\n",
    "cv = StratifiedKFold(5)\n",
    "\n",
    "rfecv = RFECV(estimator=model, step=1, cv=cv, scoring='accuracy')\n",
    "rfecv.fit(X, y)\n",
    "\n",
    "rfe_selected = X.columns[rfecv.support_]\n",
    "rfe_dropped = set(X.columns) - set(rfe_selected)\n",
    "\n",
    "print('Columns selected: ', rfe_selected, '\\n\\n', len(rfe_selected), \n",
    "    '\\n\\n', 'Columns dropped: ', rfe_dropped, '\\n\\n', len(rfe_dropped))\n",
    "\n",
    "X = X[rfe_selected]"
   ]
  },
  {
   "cell_type": "markdown",
   "id": "c3c4196c",
   "metadata": {},
   "source": [
    "Feature Importance Pruning"
   ]
  },
  {
   "cell_type": "code",
   "execution_count": null,
   "id": "e3c2108e",
   "metadata": {},
   "outputs": [
    {
     "name": "stdout",
     "output_type": "stream",
     "text": [
      "Columns selected:  Index(['year', 'fight_time_avg_diff', 'days_since_debut_diff',\n",
      "       'win_pct_before_diff', 'knockdown_avg_diff',\n",
      "       'sig_strikes_landed_per_minute_diff', 'takedowns_avg_diff',\n",
      "       'days_since_last_win_diff', 'avg_ground_strikes_diff',\n",
      "       'avg_ground_attempts_diff', 'avg_body_strikes_diff',\n",
      "       'control_time_roll_5_diff', 'avg_clinch_strikes_diff',\n",
      "       'avg_sub_attempts_diff', 'takedowns_ema_diff', 'avg_body_attempts_diff',\n",
      "       'avg_clinch_attempts_diff', 'avg_takedowns_diff', 'avg_time_diff',\n",
      "       'takedowns_success_rate_roll_5_diff', 'weight_diff',\n",
      "       'takedown_attempts_ema_diff', 'avg_rounds_diff', 'submission_avg_diff',\n",
      "       'avg_takedown_attempts_diff', 'avg_leg_attempts_diff', 'reach_diff',\n",
      "       'avg_knockdowns_diff', 'losses_before_diff', 'head_strikes_ema_diff',\n",
      "       'avg_leg_strikes_diff', 'knockdowns_ema_diff', 'avg_sig_strikes_diff',\n",
      "       'sig_strikes_ema_diff', 'takedown_attempts_roll_5_diff',\n",
      "       'avg_head_strikes_diff', 'head_attempts_ema_diff',\n",
      "       'total_fights_before_diff', 'total_strikes_ema_diff',\n",
      "       'avg_distance_attempts_diff', 'total_strikes_attempts_ema_diff',\n",
      "       'avg_distance_diff', 'sig_attempts_roll_5_diff',\n",
      "       'avg_head_attempts_diff', 'leg_reach_diff', 'avg_total_strikes_diff',\n",
      "       'avg_total_strikes_attempts_diff', 'total_strikes_roll_5_diff',\n",
      "       'total_strikes_attempts_roll_5_diff', 'sig_attempts_ema_diff',\n",
      "       'takedowns_roll_5_diff', 'sig_strikes_roll_5_diff',\n",
      "       'avg_sig_attempts_diff', 'sig_strikes_absorbed_per_minute_diff',\n",
      "       'wins_before_diff', 'month', 'win_streak_diff', 'height_diff',\n",
      "       'knockdowns_roll_5_diff', 'wins_last_365_days_diff',\n",
      "       'fights_last_365_days_diff', 'lose_streak_diff', 'wins_last_3_diff'],\n",
      "      dtype='object') \n",
      "\n",
      " 63 \n",
      "\n",
      " Columns dropped:  set() \n",
      "\n",
      " 0\n"
     ]
    }
   ],
   "source": [
    "model.fit(X,y)\n",
    "importances = pd.Series(model.feature_importances_, index=X.columns)\n",
    "\n",
    "top_features = importances.sort_values(ascending=False).head(63).index\n",
    "top_features\n",
    "\n",
    "importance_dropped = set(X.columns) - set(top_features)\n",
    "\n",
    "print('Columns selected: ', top_features, '\\n\\n', len(top_features), \n",
    "    '\\n\\n', 'Columns dropped: ', importance_dropped, '\\n\\n', len(importance_dropped))\n",
    "\n",
    "X = X[top_features]"
   ]
  },
  {
   "cell_type": "code",
   "execution_count": 11,
   "id": "3ba46964",
   "metadata": {},
   "outputs": [
    {
     "data": {
      "text/plain": [
       "(4584, 63)"
      ]
     },
     "execution_count": 11,
     "metadata": {},
     "output_type": "execute_result"
    }
   ],
   "source": [
    "X.shape"
   ]
  },
  {
   "cell_type": "code",
   "execution_count": 12,
   "id": "25c64e49",
   "metadata": {},
   "outputs": [],
   "source": [
    "# Save top feature names\n",
    "top_features_df = pd.DataFrame(top_features, columns=['feature'])\n",
    "top_features_df.to_csv('../data/notebooks/top_features.csv', index=False)"
   ]
  },
  {
   "cell_type": "markdown",
   "id": "00cedbf8",
   "metadata": {},
   "source": [
    "Date Preview"
   ]
  },
  {
   "cell_type": "code",
   "execution_count": null,
   "id": "c0a4678c",
   "metadata": {},
   "outputs": [],
   "source": [
    "sns.pairplot(df_features_clean)\n",
    "plt.show()"
   ]
  },
  {
   "cell_type": "code",
   "execution_count": null,
   "id": "44346fa2",
   "metadata": {},
   "outputs": [],
   "source": [
    "plt.figure(figsize=(35,25))\n",
    "sns.heatmap(df_features_clean.corr(), annot=True, cmap='coolwarm')\n",
    "plt.title('Correlation Matrix')\n",
    "plt.show()"
   ]
  },
  {
   "cell_type": "markdown",
   "id": "a97cfa98",
   "metadata": {},
   "source": [
    "Concatenate and Save"
   ]
  },
  {
   "cell_type": "code",
   "execution_count": 13,
   "id": "4e48f55a",
   "metadata": {},
   "outputs": [],
   "source": [
    "df_final = pd.concat([X.reset_index(drop=True), y.reset_index(drop=True)], axis=1)\n",
    "df_final.to_csv('../data/notebooks/features_selected.csv', index=False)"
   ]
  }
 ],
 "metadata": {
  "kernelspec": {
   "display_name": "Python 3",
   "language": "python",
   "name": "python3"
  },
  "language_info": {
   "codemirror_mode": {
    "name": "ipython",
    "version": 3
   },
   "file_extension": ".py",
   "mimetype": "text/x-python",
   "name": "python",
   "nbconvert_exporter": "python",
   "pygments_lexer": "ipython3",
   "version": "3.12.9"
  }
 },
 "nbformat": 4,
 "nbformat_minor": 5
}
